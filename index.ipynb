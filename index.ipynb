{
 "cells": [
  {
   "cell_type": "markdown",
   "metadata": {},
   "source": [
    "# One-dimensional advection"
   ]
  },
  {
   "cell_type": "markdown",
   "metadata": {},
   "source": [
    "In this notebook, I explain the different sections of the M-file script `advection_1d.m` and the M-file function `run_model.m` that simulate the advection of a tracer anomaly by a narrow current. The complete code of both M-files is given in a separate notebook [advection_1d_upwind](advection_1d_upwind.ipynb). For a detailed description of the exercise, see the PDF document [e04_advection_1d_exercise.pdf](https://seafile.zfn.uni-bremen.de/f/a2e551f474c14e26bdf8/)."
   ]
  },
  {
   "cell_type": "markdown",
   "metadata": {},
   "source": [
    "## M-file script `advection_1d.m`"
   ]
  },
  {
   "cell_type": "markdown",
   "metadata": {},
   "source": [
    "First, I go through the M-file script or \"main program\" `advection_1d.m`. As in the solar heating and zero-dimensional energy balance models, the first section of the M-file script `advection_1d.m` serves to set constants and parameters:"
   ]
  },
  {
   "cell_type": "code",
   "execution_count": 1,
   "metadata": {},
   "outputs": [],
   "source": [
    "% Set named constants\n",
    "SECONDS_PER_DAY = 86400.0; % seconds per day\n",
    "M2KM            = 1.0E-03; % m to km conversion factor"
   ]
  },
  {
   "cell_type": "markdown",
   "metadata": {},
   "source": [
    "In this case, this includes setting the number of spatial grid points `Ny`, the origin of the spatial grid `ygOrigin` and the width `deltaX` in the x-direction, height `deltaY` in the y-direction and depth `deltaR` in the z-direction of the grid cells:"
   ]
  },
  {
   "cell_type": "code",
   "execution_count": 2,
   "metadata": {},
   "outputs": [],
   "source": [
    "% Set array size(s)\n",
    "Ny = 400; % no. points in Y for the total domain\n",
    "\n",
    "% Set up horizontal grid and coordinate system\n",
    "ygOrigin =   0.0;\n",
    "deltaX   = 100.0E03; % width/m\n",
    "deltaY   =  10.0E03; % height/m\n",
    "deltaR   = 100.0;    % depth/m"
   ]
  },
  {
   "cell_type": "markdown",
   "metadata": {},
   "source": [
    "Thus there are 400 grid points in total. Each grid cell is 100 km wide, 10 km high and 100 m deep, in accordance with the specifications given in the exercise. The total extent of the grid is 400 times 10 km, or 4000 km. "
   ]
  },
  {
   "cell_type": "markdown",
   "metadata": {},
   "source": [
    "Next the locations of the  grid-cell faces `yG` are defined in a `for`-loop. The variable `yG` is defined as a one-dimensional array or vector. Initially, all 401 elements are set to zero. Then the origin of the grid `ygOrigin` is assigned to the first element `yG(1)`. Subsequently, all other elements are set in `for`-loop, by setting `yG(2)`to `yG(1) + deltaY` and so on:"
   ]
  },
  {
   "cell_type": "code",
   "execution_count": 3,
   "metadata": {},
   "outputs": [],
   "source": [
    "% Calculate latitudes of N+1 grid-lines/cell faces\n",
    "yG    = zeros(Ny + 1, 1);\n",
    "yG(1) = ygOrigin;\n",
    "for j=1:Ny\n",
    "    yG(j + 1) = yG(j) + deltaY;\n",
    "end"
   ]
  },
  {
   "cell_type": "markdown",
   "metadata": {},
   "source": [
    "As a result, the locations of the first 10 grid-cell faces `yG` in units of m are:"
   ]
  },
  {
   "cell_type": "code",
   "execution_count": 4,
   "metadata": {},
   "outputs": [
    {
     "name": "stdout",
     "output_type": "stream",
     "text": [
      "ans =\r\n",
      "\r\n",
      "       0\r\n",
      "   10000\r\n",
      "   20000\r\n",
      "   30000\r\n",
      "   40000\r\n",
      "   50000\r\n",
      "   60000\r\n",
      "   70000\r\n",
      "   80000\r\n",
      "   90000\r\n",
      "\r\n"
     ]
    }
   ],
   "source": [
    "yG(1:10)"
   ]
  },
  {
   "cell_type": "markdown",
   "metadata": {},
   "source": [
    "Similarly, the locations of the grid-cell centers can be defined in a `for`-loop, too. They are calculated from the average of the locations of the grid-cell faces to the left and to the right, for example, `yC(1)` is set to `0.5*(yG(1) + yG(2))`:"
   ]
  },
  {
   "cell_type": "code",
   "execution_count": 5,
   "metadata": {},
   "outputs": [],
   "source": [
    "% Calculate latitudes of cell centers by averaging\n",
    "yC    = zeros(Ny, 1);\n",
    "for j=1:Ny\n",
    "    yC(j)     = 0.5*(yG(j) + yG(j + 1));\n",
    "end"
   ]
  },
  {
   "cell_type": "markdown",
   "metadata": {},
   "source": [
    "Hence the locations of the first 10 grid-cell centers `yC` in units of m are:"
   ]
  },
  {
   "cell_type": "code",
   "execution_count": 6,
   "metadata": {},
   "outputs": [
    {
     "name": "stdout",
     "output_type": "stream",
     "text": [
      "ans =\r\n",
      "\r\n",
      "    5000\r\n",
      "   15000\r\n",
      "   25000\r\n",
      "   35000\r\n",
      "   45000\r\n",
      "   55000\r\n",
      "   65000\r\n",
      "   75000\r\n",
      "   85000\r\n",
      "   95000\r\n",
      "\r\n"
     ]
    }
   ],
   "source": [
    "yC(1:10)"
   ]
  },
  {
   "cell_type": "markdown",
   "metadata": {},
   "source": [
    "Now the grid-cell face areas `yA` (in units of m<sup>2</sup>) and volumes (in units of m<sup>3</sup>), as well as the advection velocity `uVel` (in units of m s<sup>-1</sup>) are set:"
   ]
  },
  {
   "cell_type": "code",
   "execution_count": 7,
   "metadata": {},
   "outputs": [],
   "source": [
    "% Calculate face areas normal to X direction\n",
    "yA = zeros(Ny+1, 1);\n",
    "for j=1:Ny+1\n",
    "    yA(j) = deltaX*deltaR;\n",
    "end\n",
    "\n",
    "% Calculate grid-cell volumes\n",
    "volume = zeros(Ny, 1);\n",
    "for j=1:Ny\n",
    "    volume(j) = deltaR*deltaX*deltaY;\n",
    "end\n",
    "\n",
    "% Set other fields\n",
    "vVel = zeros(Ny + 1, 1); % velocity for advection (m s-1)                                          \n",
    "for j=1:Ny+1\n",
    "    vVel(j) = 2.0;\n",
    "end"
   ]
  },
  {
   "cell_type": "markdown",
   "metadata": {},
   "source": [
    "Although these variables are one-dimensional arrays or vectors, their values are constant. For example, the first 10 values of the advection velocity `vVel` in units of m s<sup>-1</sup> are:"
   ]
  },
  {
   "cell_type": "code",
   "execution_count": 8,
   "metadata": {},
   "outputs": [
    {
     "name": "stdout",
     "output_type": "stream",
     "text": [
      "ans =\r\n",
      "\r\n",
      "   2\r\n",
      "   2\r\n",
      "   2\r\n",
      "   2\r\n",
      "   2\r\n",
      "   2\r\n",
      "   2\r\n",
      "   2\r\n",
      "   2\r\n",
      "   2\r\n",
      "\r\n"
     ]
    }
   ],
   "source": [
    "vVel(1:10)"
   ]
  },
  {
   "cell_type": "markdown",
   "metadata": {},
   "source": [
    "After defining the grid, the run parameters are set:"
   ]
  },
  {
   "cell_type": "code",
   "execution_count": 9,
   "metadata": {},
   "outputs": [],
   "source": [
    "% Set run parameters\n",
    "deltaT     = 1200.0; % time step/s\n",
    "startTime  =    0.0; % time to start integration/d\n",
    "endTime    =   20.0; % time to stop integration/d\n",
    "\n",
    "% Set total number of time steps\n",
    "nTimeSteps = round((endTime - startTime)*SECONDS_PER_DAY/deltaT);"
   ]
  },
  {
   "cell_type": "markdown",
   "metadata": {},
   "source": [
    "With the time step `deltaT` set to 1200 s and the duration of the simulation `endTime - startTime` set to 20 days, the total number of time steps `nTimeSteps` to be taken becomes:"
   ]
  },
  {
   "cell_type": "code",
   "execution_count": 10,
   "metadata": {},
   "outputs": [
    {
     "name": "stdout",
     "output_type": "stream",
     "text": [
      "nTimeSteps =  1440\r\n"
     ]
    }
   ],
   "source": [
    "nTimeSteps"
   ]
  },
  {
   "cell_type": "markdown",
   "metadata": {},
   "source": [
    "The advection equation is a partial differential equation (PDE) of first order in time. In order to solve it, we need to specify the initial tracer anomaly, which is also defined as one-dimensional array or vector `initialTracer`:"
   ]
  },
  {
   "cell_type": "code",
   "execution_count": 11,
   "metadata": {},
   "outputs": [],
   "source": [
    "% Set initial conditions\n",
    "initialTracer = zeros(Ny  , 1); % tracer\n",
    "for j=1:Ny\n",
    "    if yC(j) > 370.0E03 && yC(j) < 630.0E03\n",
    "        initialTracer(j) = 1.0;\n",
    "    end    \n",
    "end"
   ]
  },
  {
   "cell_type": "markdown",
   "metadata": {},
   "source": [
    "The initial tracer anomaly is set to zero everywhere except in the interval between 370 km and 630 km downstream, as can be seen in the following plot:"
   ]
  },
  {
   "cell_type": "code",
   "execution_count": 12,
   "metadata": {},
   "outputs": [
    {
     "data": {
      "image/png": "[encoded data removed]",
      "text/plain": [
       "<IPython.core.display.Image object>"
      ]
     },
     "metadata": {},
     "output_type": "display_data"
    }
   ],
   "source": [
    "%plot inline\n",
    "\n",
    "% Plot initial concentration profile\n",
    "plot(yC/1.0E03, initialTracer, 'Color', 'b', 'LineWidth', 2)\n",
    "\n",
    "% Refine plot\n",
    "axis([0 4000.0 -0.5 1.5]);\n",
    "set(gca, 'FontSize', 18)\n",
    "xlabel('Location y/km', 'FontSize', 18)\n",
    "ylabel('Tracer concentration C', 'FontSize', 18)\n",
    "title('One-dimensional advection', 'FontSize', 20)"
   ]
  },
  {
   "cell_type": "markdown",
   "metadata": {},
   "source": [
    "Before calling the M-file function that solves the advection equation numerically, we define the structure arrays `Constants`, `Sizes`, `Grids`, `RunParameters` and `ModelParameters`. While `RunParameters` specifies the discretization in time, `Sizes` and `Grids` specify the discretization in space:"
   ]
  },
  {
   "cell_type": "code",
   "execution_count": 13,
   "metadata": {},
   "outputs": [],
   "source": [
    "% Store parameters and variable(s) in structure arrays\n",
    "Constants.SECONDS_PER_DAY     = SECONDS_PER_DAY;\n",
    "Constants.M2KM                = M2KM; \n",
    "Sizes.Ny                      = Ny;\n",
    "Grids.yC                      = yC;\n",
    "Grids.yA                      = yA;   \n",
    "Grids.volume                  = volume;\n",
    "RunParameters.deltaT          = deltaT;\n",
    "RunParameters.startTime       = startTime;\n",
    "RunParameters.nTimeSteps      = nTimeSteps;\n",
    "ModelParameters.vVel          = vVel;\n",
    "ModelParameters.initialTracer = initialTracer;"
   ]
  },
  {
   "cell_type": "markdown",
   "metadata": {},
   "source": [
    "In our application, `Sizes` contains a single field, which is the number of grid points in the y-direction `Ny`:"
   ]
  },
  {
   "cell_type": "code",
   "execution_count": 14,
   "metadata": {},
   "outputs": [
    {
     "name": "stdout",
     "output_type": "stream",
     "text": [
      "Sizes =\r\n",
      "\r\n",
      "  scalar structure containing the fields:\r\n",
      "\r\n",
      "    Ny =  400\r\n",
      "\r\n"
     ]
    }
   ],
   "source": [
    "Sizes"
   ]
  },
  {
   "cell_type": "markdown",
   "metadata": {},
   "source": [
    "In principle, now that all variables are defined and initialized, we can call the M-file function or \"subprogram\" that carries out the numerical integration using the forward-in-time method and upwind scheme.\n",
    "\n",
    "However, we first need to define the M-file function. In a Jupyter noetebook, we also need to execute it once in order to save it to an internal M-file. First I provide the necessary code in the following cell and comment on it afterwards:"
   ]
  },
  {
   "cell_type": "code",
   "execution_count": 15,
   "metadata": {},
   "outputs": [
    {
     "name": "stdout",
     "output_type": "stream",
     "text": [
      "Created file '/Users/andre/Development/advection-1d/run_model_upwind.m'.\n"
     ]
    }
   ],
   "source": [
    "%%file run_model_upwind.m\n",
    "\n",
    "function run_model_upwind(Constants, Sizes, Grids, ... \n",
    "                          RunParameters, ModelParameters)\n",
    "% RUN_MODEL_UPWIND Direct integration of advection using the upwind scheme.\n",
    "\n",
    "% Retrieve parameters and variable(s) from structure arrays\n",
    "SECONDS_PER_DAY = Constants.SECONDS_PER_DAY;\n",
    "M2KM            = Constants.M2KM;\n",
    "Ny              = Sizes.Ny;\n",
    "yC              = Grids.yC;   \n",
    "yA              = Grids.yA;\n",
    "volume          = Grids.volume;\n",
    "deltaT          = RunParameters.deltaT;\n",
    "startTime       = RunParameters.startTime;\n",
    "nTimeSteps      = RunParameters.nTimeSteps;\n",
    "vVel            = ModelParameters.vVel;\n",
    "initialTracer   = ModelParameters.initialTracer;\n",
    "\n",
    "% Set initial conditions\n",
    "myTime    = startTime;\n",
    "tracer    = initialTracer;\n",
    "tracerNm1 = tracer;     % tracer at time level n - 1\n",
    "\n",
    "% Initialize plot (tracer concentration)\n",
    "p1 = plot(yC*M2KM, tracer, 'r');\n",
    "set(p1,'linewidth', 2);\n",
    "grid on\n",
    "axis([0 4000.0 -0.5 1.5]);\n",
    "set(gca, 'FontSize', 18)\n",
    "xlabel('Location y/km', 'FontSize', 18)\n",
    "ylabel('Tracer concentration C', 'FontSize', 18)\n",
    "title('One-dimensional advection', 'FontSize', 20)\n",
    "\n",
    "% Preallocate arrays for speed\n",
    "afy     = zeros(Ny + 1, 1); % advective flux in Y direction\n",
    "vTrans  = zeros(Ny + 1, 1); % meridional volume transport through cell\n",
    "gTracer = zeros(Ny    , 1); % tendency due to advection\n",
    "\n",
    "% Time loop (myIter = iteration counter)\n",
    "for myIter=1:nTimeSteps\n",
    "    \n",
    "    % Record simulated time\n",
    "    myTime = myTime + deltaT;\n",
    "\n",
    "    % Calculate common factors (e.g., volume fluxes) on right-hand side\n",
    "    for j=1:Ny\n",
    "        vTrans(j) = vVel(j)*yA(j);\n",
    "    end\n",
    "\n",
    "    % Calculate advective flux in Y direction\n",
    "    for j=2:Ny\n",
    "        % Use \"upwind\" scheme\n",
    "        if vTrans(j) > 0.0\n",
    "            afy(j) = vTrans(j)*tracer(j - 1);\n",
    "        else\n",
    "            afy(j) = vTrans(j)*tracer(j);\n",
    "        end\n",
    "    end\n",
    "\n",
    "    % Calculate surface tracer tendency due to internal processes\n",
    "    % (here advection only)\n",
    "    for j=1:Ny\n",
    "        % Divergence of fluxes\n",
    "        gTracer(j) = (afy(j) - afy(j + 1))/volume(j);\n",
    "    end\n",
    "\n",
    "    % Step surface tracer forward in time \n",
    "    % (by \"Euler forward\" or \"forward-in-time\" (FT) method)\n",
    "    tracer = tracer + deltaT*gTracer;\n",
    "   \n",
    "    % Plot values as calculation proceeds\n",
    "    set(p1, 'XData', yC*M2KM, 'YData', tracer)\n",
    "    drawnow\n",
    "\n",
    "end % end of time loop"
   ]
  },
  {
   "cell_type": "markdown",
   "metadata": {},
   "source": [
    "Finally, we can indeed call the M-file function `run_model_upwind.m`. Note that it contains code that animates the numerical solution if run in GNU Octave. In this Jupyter notebook, after execution only the result for the last time step is shown in an inline plot. The following two lines would actually be placed at the end of the calling M-file script `advection_1d.m`:"
   ]
  },
  {
   "cell_type": "code",
   "execution_count": 16,
   "metadata": {},
   "outputs": [
    {
     "data": {
      "image/png": "[encoded data removed]",
      "text/plain": [
       "<IPython.core.display.Image object>"
      ]
     },
     "metadata": {},
     "output_type": "display_data"
    }
   ],
   "source": [
    "% Run model\n",
    "run_model_upwind(Constants, Sizes, Grids, RunParameters, ModelParameters);"
   ]
  },
  {
   "cell_type": "markdown",
   "metadata": {},
   "source": [
    "## Explaining the M-file function `run_model_upwind.m`"
   ]
  },
  {
   "cell_type": "markdown",
   "metadata": {},
   "source": [
    "Now I comment on the code of the M-file function `run_model_upwind.m` in detail:"
   ]
  },
  {
   "cell_type": "markdown",
   "metadata": {},
   "source": [
    "The first line is continued to the second and defines the name of the function `run_model_upwind` as well as five input arguments:"
   ]
  },
  {
   "cell_type": "markdown",
   "metadata": {},
   "source": [
    "```OCTAVE\n",
    "function run_model_upwind(Constants, Sizes, Grids, ... \n",
    "                          RunParameters, ModelParameters)\n",
    "```"
   ]
  },
  {
   "cell_type": "markdown",
   "metadata": {},
   "source": [
    "The input arguments are the five structure arrays (structures for short) `Constants`, `Sizes`, `Grids`, `RunParameters` and `ModelParameters`. For convenience and to reduce writing, the input parameters and variables can be retrieved by accessing the fields of the structures using the `.` notation, for example, the number of grid points `Ny`can be retrieved from the `Sizes` structure as follow: `Ny = Sizes.Ny;`."
   ]
  },
  {
   "cell_type": "markdown",
   "metadata": {},
   "source": [
    "```OCTAVE\n",
    "% Retrieve parameters and variable(s) from structure arrays\n",
    "SECONDS_PER_DAY = Constants.SECONDS_PER_DAY;\n",
    "M2KM            = Constants.M2KM;\n",
    "Ny              = Sizes.Ny;\n",
    "yC              = Grids.yC;   \n",
    "yA              = Grids.yA;\n",
    "volume          = Grids.volume;\n",
    "deltaT          = RunParameters.deltaT;\n",
    "startTime       = RunParameters.startTime;\n",
    "nTimeSteps      = RunParameters.nTimeSteps;\n",
    "vVel            = ModelParameters.vVel;\n",
    "initialTracer   = ModelParameters.initialTracer;\n",
    "\n",
    "```"
   ]
  },
  {
   "cell_type": "markdown",
   "metadata": {},
   "source": [
    "Next the initial conditions are set: the initial time and the initial tracer distribution."
   ]
  },
  {
   "cell_type": "markdown",
   "metadata": {},
   "source": [
    "```OCTAVE\n",
    "% Set initial conditions\n",
    "myTime    = startTime;\n",
    "tracer    = initialTracer;\n",
    "```"
   ]
  },
  {
   "cell_type": "markdown",
   "metadata": {},
   "source": [
    "Then the initial tracer distribution is plotted as a function of the distance y in units of km. The plot is assigned to a variable `p1` such that it can be updated later:"
   ]
  },
  {
   "cell_type": "markdown",
   "metadata": {},
   "source": [
    "```OCTAVE\n",
    "% Initialize plot (tracer concentration)\n",
    "p1 = plot(yC*M2KM, tracer, 'r');\n",
    "set(p1,'linewidth', 2);\n",
    "grid on\n",
    "axis([0 4000.0 -0.5 1.5]);\n",
    "set(gca, 'FontSize', 18)\n",
    "xlabel('Location y/km', 'FontSize', 18)\n",
    "ylabel('Tracer concentration C', 'FontSize', 18)\n",
    "title('One-dimensional advection', 'FontSize', 20)\n",
    "```"
   ]
  },
  {
   "cell_type": "markdown",
   "metadata": {},
   "source": [
    "To speed up the time stepping of the numerical solution, auxiliary variables are \"pre-allocated\", that is, they are defined as arrays of size `Ny + 1` (for the advective flux and volume transport at the grid-cell interfaces) and `Ny` (for the tendency due to advection at the grid-cell centers) and intialized to zero. Otherwise the size of these arrays would grow by one during each iteration of the time loop. This would require the allocation of additional memory in the computer during each iteration, which could slow down the program execution and cause a substantial increase in computing time. "
   ]
  },
  {
   "cell_type": "markdown",
   "metadata": {},
   "source": [
    "```OCTAVE\n",
    "% Preallocate arrays for speed\n",
    "afy     = zeros(Ny + 1, 1); % advective flux in Y direction\n",
    "vTrans  = zeros(Ny + 1, 1); % meridional volume transport through cell\n",
    "gTracer = zeros(Ny    , 1); % tendency due to advection\n",
    "```"
   ]
  },
  {
   "cell_type": "markdown",
   "metadata": {},
   "source": [
    "Now follows the time loop, that is, a `for` loop that is repated `nTimeSteps` times: "
   ]
  },
  {
   "cell_type": "markdown",
   "metadata": {},
   "source": [
    "```Octave\n",
    "% Time loop (myIter = iteration counter)\n",
    "for myIter=1:nTimeSteps\n",
    "```"
   ]
  },
  {
   "cell_type": "markdown",
   "metadata": {},
   "source": [
    "The time loop in turn contains `for` loops that run over the spatial dimension. The following `for` loop calculates the volume transport `vTrans` from the product of the advection velocity `vVel` and the cross-sectional area `yA` for each grid cell: "
   ]
  },
  {
   "cell_type": "markdown",
   "metadata": {},
   "source": [
    "```OCTAVE\n",
    "    % Calculate common factors (e.g., volume fluxes) on right-hand side\n",
    "    for j=1:Ny\n",
    "        vTrans(j) = vVel(j)*yA(j);\n",
    "    end\n",
    "```"
   ]
  },
  {
   "cell_type": "markdown",
   "metadata": {},
   "source": [
    "Given the volume transport `vTrans`, the advective flux `afy` can now be calculated according to the upwind scheme. Depending on the sign (direction) of the volume transport, it is equal to the volume transport `vTrans(j)` times the tracer concentration to the left (south) `tracer(j - 1)` or the tracer concentration to the right (north) `tracer(j)`:"
   ]
  },
  {
   "cell_type": "markdown",
   "metadata": {},
   "source": [
    "```OCTAVE\n",
    "    % Calculate advective flux in Y direction\n",
    "    for j=2:Ny\n",
    "        % Use \"upwind\" scheme\n",
    "        if vTrans(j) > 0.0\n",
    "            afy(j) = vTrans(j)*tracer(j - 1);\n",
    "        else\n",
    "            afy(j) = vTrans(j)*tracer(j);\n",
    "        end\n",
    "    end\n",
    "```"
   ]
  },
  {
   "cell_type": "markdown",
   "metadata": {},
   "source": [
    "The tracer tendency is then equal to the divergence of the advective flux, that is, the difference between the advective flux to the right (north) `afy(j)` minus the advective flux from the left (south) `afy(j + 1)` divided by the volume of the grid cell `volume(j)`:"
   ]
  },
  {
   "cell_type": "markdown",
   "metadata": {},
   "source": [
    "```OCTAVE\n",
    "    % Calculate surface tracer tendency due to internal processes\n",
    "    % (here advection only)\n",
    "    for j=1:Ny\n",
    "        % Divergence of fluxes\n",
    "        gTracer(j) = (afy(j) - afy(j + 1))/volume(j);\n",
    "    end\n",
    "```"
   ]
  },
  {
   "cell_type": "markdown",
   "metadata": {},
   "source": [
    "Eventually, the tracer concentration at the future time level (n + 1) can be calculated from the tracer concentration at the present time level (n) plus the time step times the tracer tendency:"
   ]
  },
  {
   "cell_type": "markdown",
   "metadata": {},
   "source": [
    "```OCTAVE\n",
    "    % Step surface tracer forward in time \n",
    "    % (by \"Euler forward\" or \"forward-in-time\" (FT) method)\n",
    "    tracer = tracer + deltaT*gTracer;\n",
    "```"
   ]
  },
  {
   "cell_type": "markdown",
   "metadata": {},
   "source": [
    "This completes one iteration of the time loop and the plot `p1` can be updated with the new tracer distribution to generate the animation of the numerical solution:"
   ]
  },
  {
   "cell_type": "markdown",
   "metadata": {},
   "source": [
    "```OCTAVE  \n",
    "    % Plot values as calculation proceeds\n",
    "    set(p1, 'XData', yC*M2KM, 'YData', tracer)\n",
    "    drawnow\n",
    "```"
   ]
  },
  {
   "cell_type": "markdown",
   "metadata": {},
   "source": [
    "The execution of the M-file function stops right after the end of the time loop and the control is returned to the calling M-file script. In this case there are no output arguments, all output is to the screen."
   ]
  },
  {
   "cell_type": "markdown",
   "metadata": {},
   "source": [
    "```OCTAVE\n",
    "end % end of time loop\n",
    "```"
   ]
  },
  {
   "cell_type": "markdown",
   "metadata": {},
   "source": [
    "## Modifying the M-file function `run_model_upwind.m`"
   ]
  },
  {
   "cell_type": "markdown",
   "metadata": {},
   "source": [
    "The task is to modify the code of the M-file function `run_model_upwind.m` such that we can determine the time it takes for the tracer to reach the location $y$ = 3500 km downstream, using a threshold value for detecting the arrival of the tracer front  (for example, $C_{\\rm crit} = 0.01$)."
   ]
  },
  {
   "cell_type": "markdown",
   "metadata": {},
   "source": [
    "This can be accomplished by placing the following `if` statement after updating the plot `p1` with the new tracer distribution and before completing the time loop (in GNU Octave, you can copy and paste the statement in the M-file function run_model_upwind.m at the location of the question marks \"???\"):"
   ]
  },
  {
   "cell_type": "markdown",
   "metadata": {},
   "source": [
    "```OCTAVE\n",
    "    % Check for arrival of tracer front\n",
    "    if tracer(350) > 0.01\n",
    "        fprintf('Time = %6.3f d\\n', myTime/SECONDS_PER_DAY)\n",
    "        error('Arrival of temperature front');\n",
    "    end\n",
    "```"
   ]
  },
  {
   "cell_type": "markdown",
   "metadata": {},
   "source": [
    "I selected the element at position 350 of the `tracer` array because it corresponds to the location of the grid-cell center `yC(350)`, which is at 3495 km downstream:"
   ]
  },
  {
   "cell_type": "code",
   "execution_count": 17,
   "metadata": {},
   "outputs": [
    {
     "name": "stdout",
     "output_type": "stream",
     "text": [
      "ans =  3495000\r\n"
     ]
    }
   ],
   "source": [
    "yC(350)"
   ]
  },
  {
   "cell_type": "markdown",
   "metadata": {},
   "source": [
    "When the concentration in this grid cell exceeds the threshold value of 0.01, then the elapsed model time `myTime` is converted to days and printed to the screen using a fixed-point format `6.3f` with width 6 and 3 places after the decimal point. Finally, the built-in `error` function is called, which prints a message to the screen and stops the execution of the program."
   ]
  },
  {
   "cell_type": "markdown",
   "metadata": {},
   "source": [
    "The code of the M-file function `run_model_upwind.m` becomes:"
   ]
  },
  {
   "cell_type": "code",
   "execution_count": 18,
   "metadata": {},
   "outputs": [
    {
     "name": "stdout",
     "output_type": "stream",
     "text": [
      "Created file '/Users/andre/Development/advection-1d/run_model_upwind.m'.\n"
     ]
    }
   ],
   "source": [
    "%%file run_model_upwind.m\n",
    "\n",
    "function run_model_upwind(Constants, Sizes, Grids, ... \n",
    "                          RunParameters, ModelParameters)\n",
    "% RUN_MODEL_UPWIND Direct integration of advection using the upwind scheme.\n",
    "\n",
    "% Retrieve parameters and variable(s) from structure arrays\n",
    "SECONDS_PER_DAY = Constants.SECONDS_PER_DAY;\n",
    "M2KM            = Constants.M2KM;\n",
    "Ny              = Sizes.Ny;\n",
    "yC              = Grids.yC;   \n",
    "yA              = Grids.yA;\n",
    "volume          = Grids.volume;\n",
    "deltaT          = RunParameters.deltaT;\n",
    "startTime       = RunParameters.startTime;\n",
    "nTimeSteps      = RunParameters.nTimeSteps;\n",
    "vVel            = ModelParameters.vVel;\n",
    "initialTracer   = ModelParameters.initialTracer;\n",
    "\n",
    "% Set initial conditions\n",
    "myTime    = startTime;\n",
    "tracer    = initialTracer;\n",
    "tracerNm1 = tracer;     % tracer at time level n - 1\n",
    "\n",
    "% Initialize plot (tracer concentration)\n",
    "p1 = plot(yC*M2KM, tracer, 'r');\n",
    "set(p1,'linewidth', 2);\n",
    "grid on\n",
    "axis([0 4000.0 -0.5 1.5]);\n",
    "set(gca, 'FontSize', 18)\n",
    "xlabel('Location y/km', 'FontSize', 18)\n",
    "ylabel('Tracer concentration C', 'FontSize', 18)\n",
    "title('One-dimensional advection', 'FontSize', 20)\n",
    "\n",
    "% Preallocate arrays for speed\n",
    "afy     = zeros(Ny + 1, 1); % advective flux in Y direction\n",
    "vTrans  = zeros(Ny + 1, 1); % meridional volume transport through cell\n",
    "gTracer = zeros(Ny    , 1); % tendency due to advection\n",
    "\n",
    "% Time loop (myIter = iteration counter)\n",
    "for myIter=1:nTimeSteps\n",
    "    \n",
    "    % Record simulated time\n",
    "    myTime = myTime + deltaT;\n",
    "\n",
    "    % Calculate common factors (e.g., volume fluxes) on right-hand side\n",
    "    for j=1:Ny\n",
    "        vTrans(j) = vVel(j)*yA(j);\n",
    "    end\n",
    "\n",
    "    % Calculate advective flux in Y direction\n",
    "    for j=2:Ny\n",
    "        % Use \"upwind\" scheme\n",
    "        if vTrans(j) > 0.0\n",
    "            afy(j) = vTrans(j)*tracer(j - 1);\n",
    "        else\n",
    "            afy(j) = vTrans(j)*tracer(j);\n",
    "        end\n",
    "    end\n",
    "\n",
    "    % Calculate surface tracer tendency due to internal processes\n",
    "    % (here advection only)\n",
    "    for j=1:Ny\n",
    "        % Divergence of fluxes\n",
    "        gTracer(j) = (afy(j) - afy(j + 1))/volume(j);\n",
    "    end\n",
    "\n",
    "    % Step surface tracer forward in time \n",
    "    % (by \"Euler forward\" or \"forward-in-time\" (FT) method)\n",
    "    tracer = tracer + deltaT*gTracer;\n",
    "   \n",
    "    % Plot values as calculation proceeds\n",
    "    set(p1, 'XData', yC*M2KM, 'YData', tracer)\n",
    "    drawnow\n",
    "    \n",
    "    % Check for arrival of tracer front\n",
    "    if tracer(350) > 0.01\n",
    "        fprintf('Time = %6.3f d\\n', myTime/SECONDS_PER_DAY)\n",
    "        error('Arrival of temperature front');\n",
    "    end\n",
    "\n",
    "end % end of time loop"
   ]
  },
  {
   "cell_type": "markdown",
   "metadata": {},
   "source": [
    "We can call the modified function:"
   ]
  },
  {
   "cell_type": "code",
   "execution_count": 19,
   "metadata": {},
   "outputs": [
    {
     "name": "stdout",
     "output_type": "stream",
     "text": [
      "Time = 14.694 d\r\n",
      "error: Arrival of temperature front\r\n",
      "error: called from\r\n",
      "    run_model_upwind at line 78 column 9\r\n"
     ]
    },
    {
     "data": {
      "image/png": "[encoded data removed]",
      "text/plain": [
       "<IPython.core.display.Image object>"
      ]
     },
     "metadata": {},
     "output_type": "display_data"
    }
   ],
   "source": [
    "% Run model\n",
    "run_model_upwind(Constants, Sizes, Grids, RunParameters, ModelParameters);"
   ]
  },
  {
   "cell_type": "markdown",
   "metadata": {},
   "source": [
    "As a result, the front of the tracer anomaly reaches the location $y$ = 3500 km downstream after about 14.7 days."
   ]
  },
  {
   "cell_type": "markdown",
   "metadata": {},
   "source": [
    "## Completing the M-file function `run_model_ftcs.m`"
   ]
  },
  {
   "cell_type": "markdown",
   "metadata": {},
   "source": [
    "The task for the M-file function `run_model_ftcs.m` is to implement the FTCS (\"forward-in-time, centered-in-space\") solution to the one-dimensional advection. First the same `if` statement that checks for the arrival of the tracer front needs to be inserted. Then the calculation of the advective fluxes needs to be completed, as indicated by the. question marks \"???\":"
   ]
  },
  {
   "cell_type": "markdown",
   "metadata": {},
   "source": [
    "```OCTAVE\n",
    "    % Calculate advective flux in Y direction\n",
    "    for j=2:Ny\n",
    "        % Use \"centered-in-space\" (CS) scheme\n",
    "        afy(j) = ???;\n",
    "    end\n",
    "```"
   ]
  },
  {
   "cell_type": "markdown",
   "metadata": {},
   "source": [
    "The formula for the \"centered-in-space\" (CS) scheme is given in the exercise as:"
   ]
  },
  {
   "cell_type": "markdown",
   "metadata": {},
   "source": [
    "$$F_{\\textrm{adv},j}^{(n)}=u_{j}\\,\\Delta A_{j}^{y}\\,\\frac{C_{j}^{(n)}+C_{j-1}^{(n)}}{2}\\;.$$"
   ]
  },
  {
   "cell_type": "markdown",
   "metadata": {},
   "source": [
    "Because $u_{j}\\,\\Delta A_{j}^{y}$ is equal to the volume transport `vTrans(j)`, this translates to the following MATLAB/Octave code:"
   ]
  },
  {
   "cell_type": "markdown",
   "metadata": {},
   "source": [
    "```OCTAVE\n",
    "    % Calculate advective flux in Y direction\n",
    "    for j=2:Ny\n",
    "        % Use \"centered-in-space\" (CS) scheme\n",
    "        afy(j) = vTrans(j)*(tracer(j) + tracer(j - 1))/2.0;\n",
    "    end\n",
    "```"
   ]
  },
  {
   "cell_type": "markdown",
   "metadata": {},
   "source": [
    "The complete code of the M-file function `run_model_ftcs.m` is:"
   ]
  },
  {
   "cell_type": "code",
   "execution_count": 20,
   "metadata": {},
   "outputs": [
    {
     "name": "stdout",
     "output_type": "stream",
     "text": [
      "Created file '/Users/andre/Development/advection-1d/run_model_ftcs.m'.\n"
     ]
    }
   ],
   "source": [
    "%%file run_model_ftcs.m\n",
    "\n",
    "function run_model_ftcs(Constants, Sizes, Grids, ... \n",
    "                        RunParameters, ModelParameters)\n",
    "% RUN_MODEL_FTCS Direct integration of advection using the FTCS scheme.\n",
    "% RUN_MODEL_FTCS directs the integration of the partial differential equation\n",
    "% of one-dimensional advection using the \"forward in time-centered in space\"\n",
    "% (FTCS) scheme.\n",
    "\n",
    "% Author:           Andre Paul\n",
    "% Written:          2011-11-30\n",
    "% Last updated:     2019-11-14\n",
    "\n",
    "% Check if the environment is Octave\n",
    "is_octave = (exist ('OCTAVE_VERSION', 'builtin') > 0);\n",
    "\n",
    "% Retrieve parameters and variable(s) from structure arrays\n",
    "SECONDS_PER_DAY = Constants.SECONDS_PER_DAY;\n",
    "M2KM            = Constants.M2KM;\n",
    "Ny              = Sizes.Ny;\n",
    "yC              = Grids.yC;   \n",
    "yA              = Grids.yA;\n",
    "volume          = Grids.volume;\n",
    "deltaT          = RunParameters.deltaT;\n",
    "startTime       = RunParameters.startTime;\n",
    "nTimeSteps      = RunParameters.nTimeSteps;\n",
    "vVel            = ModelParameters.vVel;\n",
    "initialTracer   = ModelParameters.initialTracer;\n",
    "\n",
    "% Set initial conditions\n",
    "myTime    = startTime;\n",
    "tracer    = initialTracer;\n",
    "tracerNm1 = tracer;     % tracer at time level n - 1\n",
    "\n",
    "% Initialize plot (tracer concentration)\n",
    "if is_octave\n",
    "    % -- code to run in Octave here --\n",
    "    p1 = plot(yC*M2KM, tracer, 'r');\n",
    "    set(p1,'linewidth', 2);\n",
    "else\n",
    "    % -- code to run in MATLAB R2014b and later here --   \n",
    "    h = animatedline(yC*M2KM, tracer, 'Color', 'r', 'LineWidth', 2);\n",
    "end\n",
    "grid on\n",
    "axis([0 4000.0 -0.5 1.5]);\n",
    "set(gca, 'FontSize', 18)\n",
    "xlabel('Location y/km', 'FontSize', 18)\n",
    "ylabel('Tracer concentration C', 'FontSize', 18)\n",
    "title('One-dimensional advection', 'FontSize', 20)\n",
    "\n",
    "% Preallocate arrays for speed\n",
    "afy     = zeros(Ny + 1, 1); % advective flux in Y direction\n",
    "vTrans  = zeros(Ny + 1, 1); % meridional volume transport through cell\n",
    "gTracer = zeros(Ny    , 1); % tendency due to advection\n",
    "\n",
    "% Time loop (myIter = iteration counter)\n",
    "for myIter=1:nTimeSteps\n",
    "    \n",
    "    % Record simulated time\n",
    "    myTime = myTime + deltaT;\n",
    "\n",
    "    % Calculate common factors (e.g., volume fluxes) on right-hand side\n",
    "    for j=1:Ny\n",
    "        vTrans(j) = vVel(j)*yA(j);\n",
    "    end\n",
    "\n",
    "    % Calculate advective flux in Y direction\n",
    "    for j=2:Ny\n",
    "        % Use \"centered-in-space\" (CS) scheme\n",
    "        afy(j) = vTrans(j)*(tracer(j) + tracer(j - 1))/2.0;\n",
    "    end\n",
    "\n",
    "    % Calculate surface tracer tendency due to internal processes\n",
    "    % (here advection only)\n",
    "    for j=1:Ny\n",
    "        % Divergence of fluxes\n",
    "        gTracer(j) = (afy(j) - afy(j + 1))/volume(j);\n",
    "    end\n",
    "\n",
    "    % Step surface tracer forward in time \n",
    "    % (by \"Euler forward\" or \"forward-in-time\" (FT) method)\n",
    "    tracer = tracer + deltaT*gTracer;\n",
    "   \n",
    "    % Plot values as calculation proceeds\n",
    "    if is_octave\n",
    "        % -- code to run in Octave here --\n",
    "        set(p1, 'XData', yC*M2KM, 'YData', tracer)\n",
    "    else\n",
    "        % -- code to run in MATLAB R2014b and later here --   \n",
    "        clearpoints(h)\n",
    "        addpoints(h, yC*M2KM, tracer);\n",
    "    end\n",
    "    drawnow\n",
    "   \n",
    "    % Check for arrival of tracer front\n",
    "    if tracer(350) > 0.01\n",
    "        fprintf('Time = %6.3f d\\n', myTime/SECONDS_PER_DAY)\n",
    "        error('Arrival of temperature front');\n",
    "    end\n",
    "\n",
    "end % end of time loop"
   ]
  },
  {
   "cell_type": "markdown",
   "metadata": {},
   "source": [
    "It can be called with the same input arguments as the M-file function `run_model_upwind`:"
   ]
  },
  {
   "cell_type": "code",
   "execution_count": 22,
   "metadata": {},
   "outputs": [
    {
     "name": "stdout",
     "output_type": "stream",
     "text": [
      "Time = 16.625 d\r\n",
      "error: Arrival of temperature front\r\n",
      "error: called from\r\n",
      "    run_model_ftcs at line 97 column 9\r\n"
     ]
    },
    {
     "data": {
      "image/png": "[encoded data removed]",
      "text/plain": [
       "<IPython.core.display.Image object>"
      ]
     },
     "metadata": {},
     "output_type": "display_data"
    }
   ],
   "source": [
    "% Run model\n",
    "run_model_ftcs(Constants, Sizes, Grids, RunParameters, ModelParameters);"
   ]
  },
  {
   "cell_type": "markdown",
   "metadata": {},
   "source": [
    "What do you observe? You can answer this question more easily when you copy and paste the code to an M-file with the correct name and call the M-file function `run_model_ftcs` from the M-file script `advect_1d.m` in GNU Octave or MATLAB and watch the animation (for the M-file script, see [advection_1d_upwind](advection_1d_upwind.ipynb))."
   ]
  },
  {
   "cell_type": "markdown",
   "metadata": {},
   "source": [
    "## Completing the M-file function `run_model_leapfrog.m`"
   ]
  },
  {
   "cell_type": "markdown",
   "metadata": {},
   "source": [
    "To begin with, the M-file function `run_model_leapfrog.m` is also incomplete. Again, the `if` statement that checks for the arrival of the tracer front needs to be inserted, as well as the calculation of the advective fluxes according to the formula for the \"centered-in-space\" (CS) scheme (see the previous section). Now in addition the time differencing needs to be changed to the “centered-in-time” (CT) method. This involves introducing two  additional variables `tracerNm1` and `tracerTmp`. The first one serves to save the tracer distribution at the past time level (n - 1) until the next iteration. It is initialized with the initial tracer distribution:"
   ]
  },
  {
   "cell_type": "markdown",
   "metadata": {},
   "source": [
    "```OCTAVE\n",
    "% Set initial conditions\n",
    "myTime    = startTime;\n",
    "tracer    = initialTracer;\n",
    "tracerNm1 = tracer;     % tracer at time level n - 1\n",
    "```"
   ]
  },
  {
   "cell_type": "markdown",
   "metadata": {},
   "source": [
    "The second one is merely used to prevent overwriting the tracer distribution at the present time level (n), that is, `tracer`, before copying it to `tracerTmp`, as can be seen from the following code segment in the time loop (see also the explanation on p. 3 of the document [e04_advection_1d_exercise.pdf](https://seafile.zfn.uni-bremen.de/f/a2e551f474c14e26bdf8/)):"
   ]
  },
  {
   "cell_type": "markdown",
   "metadata": {},
   "source": [
    "```OCTAVE\n",
    "    % Step surface tracer forward in time \n",
    "    % (by \"centered-in-time\" (CT) method)\n",
    "    tracerTmp = ???\n",
    "    tracerNm1 = tracer;\n",
    "    tracer    = tracerTmp;\n",
    "```"
   ]
  },
  {
   "cell_type": "markdown",
   "metadata": {},
   "source": [
    "At the location of the question marks \"???\" we need to insert the formula for the “centered-in-time” (CT) method, which according to the exercise is given by:"
   ]
  },
  {
   "cell_type": "markdown",
   "metadata": {},
   "source": [
    "$$C_{j}^{(n+1)}=C_{j}^{(n-1)}+2\\Delta t\\,G_{\\textrm{adv},j}^{(n)}\\;.$$"
   ]
  },
  {
   "cell_type": "markdown",
   "metadata": {},
   "source": [
    "In the MATLAB/Octave code segment, the right-hand side is temporaily stored in `tracerTmp`, hence:"
   ]
  },
  {
   "cell_type": "markdown",
   "metadata": {},
   "source": [
    "```OCTAVE\n",
    "    % Step surface tracer forward in time\n",
    "    % (by \"centered -in-time\" (CT) method)\n",
    "    tracerTmp = tracerNm1 + 2.0*deltaT*gTracer;\n",
    "    tracerNm1 = tracer;\n",
    "    tracer = tracerTmp;\n",
    "```"
   ]
  },
  {
   "cell_type": "markdown",
   "metadata": {},
   "source": [
    "The complete code of the M-file function `run_model_leapfrog.m` is:"
   ]
  },
  {
   "cell_type": "code",
   "execution_count": 24,
   "metadata": {},
   "outputs": [
    {
     "name": "stdout",
     "output_type": "stream",
     "text": [
      "Created file '/Users/andre/Development/advection-1d/run_model_leapfrog.m'.\n"
     ]
    }
   ],
   "source": [
    "%%file run_model_leapfrog.m\n",
    "\n",
    "function run_model_leapfrog(Constants, Sizes, Grids, ... \n",
    "                            RunParameters, ModelParameters)\n",
    "% RUN_MODEL_LEAPFROG Direct integration of advection using the leap-frog scheme.\n",
    "% RUN_MODEL_LEAPFROG directs the integration of the partial differential\n",
    "% equation of one-dimensional advection using the \"leap-frog\" scheme.\n",
    "\n",
    "% Author:           Andre Paul\n",
    "% Written:          2011-11-30\n",
    "% Last updated:     2019-11-14\n",
    "\n",
    "% Check if the environment is Octave\n",
    "is_octave = (exist ('OCTAVE_VERSION', 'builtin') > 0);\n",
    "\n",
    "% Retrieve parameters and variable(s) from structure arrays\n",
    "SECONDS_PER_DAY = Constants.SECONDS_PER_DAY;\n",
    "M2KM            = Constants.M2KM;\n",
    "Ny              = Sizes.Ny;\n",
    "yC              = Grids.yC;   \n",
    "yA              = Grids.yA;\n",
    "volume          = Grids.volume;\n",
    "deltaT          = RunParameters.deltaT;\n",
    "startTime       = RunParameters.startTime;\n",
    "nTimeSteps      = RunParameters.nTimeSteps;\n",
    "vVel            = ModelParameters.vVel;\n",
    "initialTracer   = ModelParameters.initialTracer;\n",
    "\n",
    "% Set initial conditions\n",
    "myTime    = startTime;\n",
    "tracer    = initialTracer;\n",
    "tracerNm1 = tracer;     % tracer at time level n - 1\n",
    "\n",
    "% Initialize plot (tracer concentration)\n",
    "if is_octave\n",
    "    % -- code to run in Octave here --\n",
    "    p1 = plot(yC*M2KM, tracer, 'r');\n",
    "    set(p1,'linewidth', 2);\n",
    "else\n",
    "    % -- code to run in MATLAB R2014b and later here --   \n",
    "    h = animatedline(yC*M2KM, tracer, 'Color', 'r', 'LineWidth', 2);\n",
    "end\n",
    "grid on\n",
    "axis([0 4000.0 -0.5 1.5]);\n",
    "set(gca, 'FontSize', 18)\n",
    "xlabel('Location y/km', 'FontSize', 18)\n",
    "ylabel('Tracer concentration C', 'FontSize', 18)\n",
    "title('One-dimensional advection', 'FontSize', 20)\n",
    "\n",
    "% Preallocate arrays for speed\n",
    "afy     = zeros(Ny + 1, 1); % advective flux in Y direction\n",
    "vTrans  = zeros(Ny + 1, 1); % meridional volume transport through cell\n",
    "gTracer = zeros(Ny    , 1); % tendency due to advection\n",
    "\n",
    "% Time loop (myIter = iteration counter)\n",
    "for myIter=1:nTimeSteps\n",
    "    \n",
    "    % Record simulated time\n",
    "    myTime = myTime + deltaT;\n",
    "\n",
    "    % Calculate common factors (e.g., volume fluxes) on right-hand side\n",
    "    for j=1:Ny\n",
    "        vTrans(j) = vVel(j)*yA(j);\n",
    "    end\n",
    "\n",
    "    % Calculate advective flux in Y direction\n",
    "    for j=2:Ny\n",
    "        % Use \"centered-in-space\" (CS) scheme\n",
    "        afy(j) = vTrans(j)*(tracer(j) + tracer(j - 1))/2.0;\n",
    "    end\n",
    "\n",
    "    % Calculate surface tracer tendency due to internal processes\n",
    "    % (here advection only)\n",
    "    for j=1:Ny\n",
    "        % Divergence of fluxes\n",
    "        gTracer(j) = (afy(j) - afy(j + 1))/volume(j);\n",
    "    end\n",
    "\n",
    "    % Step surface tracer forward in time \n",
    "    % (by \"centered-in-time\" (CT) method)\n",
    "    tracerTmp = tracerNm1 + 2.0*deltaT*gTracer;\n",
    "    tracerNm1 = tracer;\n",
    "    tracer    = tracerTmp;\n",
    "   \n",
    "    % Plot values as calculation proceeds\n",
    "    if is_octave\n",
    "        % -- code to run in Octave here --\n",
    "        set(p1, 'XData', yC*M2KM, 'YData', tracer)\n",
    "    else\n",
    "        % -- code to run in MATLAB R2014b and later here --   \n",
    "        clearpoints(h)\n",
    "        addpoints(h, yC*M2KM, tracer);\n",
    "    end\n",
    "    drawnow\n",
    "   \n",
    "    % Check for arrival of tracer front\n",
    "    if tracer(350) > 0.01\n",
    "        fprintf('Time = %6.3f d\\n', myTime/SECONDS_PER_DAY)\n",
    "        error('Arrival of temperature front');\n",
    "    end\n",
    "\n",
    "end % end of time loop\n"
   ]
  },
  {
   "cell_type": "markdown",
   "metadata": {},
   "source": [
    "It can be called with the same input arguments as the M-file functions `run_model_upwind` and `run_model_ftcs`:"
   ]
  },
  {
   "cell_type": "code",
   "execution_count": 25,
   "metadata": {},
   "outputs": [
    {
     "name": "stdout",
     "output_type": "stream",
     "text": [
      "Time = 15.875 d\r\n",
      "error: Arrival of temperature front\r\n",
      "error: called from\r\n",
      "    run_model_leapfrog at line 98 column 9\r\n"
     ]
    },
    {
     "data": {
      "image/png": "[encoded data removed]",
      "text/plain": [
       "<IPython.core.display.Image object>"
      ]
     },
     "metadata": {},
     "output_type": "display_data"
    }
   ],
   "source": [
    "% Run model\n",
    "run_model_leapfrog(Constants, Sizes, Grids, RunParameters, ModelParameters);"
   ]
  },
  {
   "cell_type": "markdown",
   "metadata": {},
   "source": [
    "Again your task is to describe your observations, which may be easier if you call the M-file function `run_model_leapfrog` from the M-file script `advect_1d.m` in GNU Octave or MATLAB and watch the animation (for the M-file script, see [advection_1d_upwind](advection_1d_upwind.ipynb)). Finally, discuss the advantages and disadvantages of the “upstream” and “centered-in-space” finite-difference schemes, respectively."
   ]
  }
 ],
 "metadata": {
  "authors": [
   {
    "name": "André Paul"
   },
   {
    "name": "Michael Schulz"
   }
  ],
  "kernelspec": {
   "display_name": "Octave",
   "language": "octave",
   "name": "octave"
  },
  "language_info": {
   "file_extension": ".m",
   "help_links": [
    {
     "text": "GNU Octave",
     "url": "https://www.gnu.org/software/octave/support.html"
    },
    {
     "text": "Octave Kernel",
     "url": "https://github.com/Calysto/octave_kernel"
    },
    {
     "text": "MetaKernel Magics",
     "url": "https://metakernel.readthedocs.io/en/latest/source/README.html"
    }
   ],
   "mimetype": "text/x-octave",
   "name": "octave",
   "version": "5.2.0"
  },
  "title": "Introduction to programming using Octave"
 },
 "nbformat": 4,
 "nbformat_minor": 2
}
